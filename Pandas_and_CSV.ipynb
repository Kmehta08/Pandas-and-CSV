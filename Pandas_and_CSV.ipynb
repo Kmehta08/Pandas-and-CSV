{
  "nbformat": 4,
  "nbformat_minor": 0,
  "metadata": {
    "colab": {
      "provenance": []
    },
    "kernelspec": {
      "name": "python3",
      "display_name": "Python 3"
    },
    "language_info": {
      "name": "python"
    }
  },
  "cells": [
    {
      "cell_type": "code",
      "source": [
        "import pandas as pd\n",
        "\n",
        "regular_season_df = pd.read_csv('/content/2023-2024 NBA Player Stats - Regular.csv', sep=';', encoding='latin1')\n",
        "playoffs_df = pd.read_csv('/content/2023-2024 NBA Player Stats - Playoffs.csv', sep=';', encoding='latin1')\n",
        "\n",
        "regular_season_df.rename(columns={'Tm': 'Team','PTS': 'Points', 'TRB': 'Rebounds', 'AST': 'Assists'}, inplace=True)\n",
        "playoffs_df.rename(columns={'Tm': 'Team','PTS': 'Points', 'TRB': 'Rebounds', 'AST': 'Assists'}, inplace=True)\n",
        "\n",
        "print(\"Regular Season Stats:\")\n",
        "print(regular_season_df.head())\n",
        "\n",
        "print(\"\\nPlayoff Stats:\")\n",
        "print(playoffs_df.head())\n",
        "\n"
      ],
      "metadata": {
        "colab": {
          "base_uri": "https://localhost:8080/"
        },
        "id": "MNriBOVPDN-x",
        "outputId": "0b212120-e5c5-40bb-f3f9-39f0e3b56431"
      },
      "execution_count": 3,
      "outputs": [
        {
          "output_type": "stream",
          "name": "stdout",
          "text": [
            "Regular Season Stats:\n",
            "   Rk            Player   Pos  Age Team   G  GS    MP   FG   FGA  ...    FT%  \\\n",
            "0   1  Precious Achiuwa  PF-C   24  TOT  74  18  21.9  3.2   6.3  ...  0.616   \n",
            "1   1  Precious Achiuwa     C   24  TOR  25   0  17.5  3.1   6.8  ...  0.571   \n",
            "2   1  Precious Achiuwa    PF   24  NYK  49  18  24.2  3.2   6.1  ...  0.643   \n",
            "3   2       Bam Adebayo     C   26  MIA  71  71  34.0  7.5  14.3  ...  0.755   \n",
            "4   3      Ochai Agbaji    SG   23  TOT  78  28  21.0  2.3   5.6  ...  0.661   \n",
            "\n",
            "   ORB  DRB  Rebounds  Assists  STL  BLK  TOV   PF  Points  \n",
            "0  2.6  4.0       6.6      1.3  0.6  0.9  1.1  1.9     7.6  \n",
            "1  2.0  3.4       5.4      1.8  0.6  0.5  1.2  1.6     7.7  \n",
            "2  2.9  4.3       7.2      1.1  0.6  1.1  1.1  2.1     7.6  \n",
            "3  2.2  8.1      10.4      3.9  1.1  0.9  2.3  2.2    19.3  \n",
            "4  0.9  1.8       2.8      1.1  0.6  0.6  0.8  1.5     5.8  \n",
            "\n",
            "[5 rows x 30 columns]\n",
            "\n",
            "Playoff Stats:\n",
            "   Rk                    Player Pos  Age Team   G  GS    MP   FG   FGA  ...  \\\n",
            "0   1          Precious Achiuwa  PF   24  NYK   9   2  20.4  2.3   4.8  ...   \n",
            "1   2               Bam Adebayo   C   26  MIA   5   5  38.4  9.6  19.4  ...   \n",
            "2   3  Nickeil Alexander-Walker  SG   25  MIN  16   1  23.6  2.6   7.0  ...   \n",
            "3   4             Grayson Allen  SG   28  PHO   2   2  21.5  0.5   2.5  ...   \n",
            "4   5             Jarrett Allen   C   25  CLE   4   4  31.8  6.3   9.3  ...   \n",
            "\n",
            "     FT%  ORB   DRB  Rebounds  Assists  STL  BLK  TOV   PF  Points  \n",
            "0  0.385  2.4   1.8       4.2      0.6  0.4  1.3  0.4  2.2     5.2  \n",
            "1  0.714  2.2   7.2       9.4      3.8  0.4  0.0  1.6  3.0    22.6  \n",
            "2  1.000  0.3   1.4       1.8      2.3  0.6  0.4  0.9  1.5     7.3  \n",
            "3  1.000  1.0   3.0       4.0      1.0  0.5  0.0  1.5  2.0     3.5  \n",
            "4  0.692  3.8  10.0      13.8      1.3  1.3  1.0  1.3  2.0    17.0  \n",
            "\n",
            "[5 rows x 30 columns]\n"
          ]
        }
      ]
    },
    {
      "cell_type": "markdown",
      "source": [
        "**Exercise 1: Top 10 Rebounders**\n",
        "\n",
        "Write code to display the top 10 players with the most rebounds in both the regular season and playoffs"
      ],
      "metadata": {
        "id": "N-w2bZnuE-RI"
      }
    },
    {
      "cell_type": "code",
      "source": [
        "top_rebounders_regular = regular_season_df[['Player', 'Rebounds']].sort_values(by='Rebounds', ascending=False).head(10)\n",
        "print(\"Top 10 Regular Season Rebounders:\")\n",
        "print(top_rebounders_regular)\n",
        "\n",
        "\n",
        "top_rebounders_playoffs = playoffs_df[['Player', 'Rebounds']].sort_values(by='Rebounds', ascending=False).head(10)\n",
        "print(\"Top 10 Regular Season Rebounders:\")\n",
        "print(top_rebounders_playoffs)\n"
      ],
      "metadata": {
        "colab": {
          "base_uri": "https://localhost:8080/"
        },
        "id": "ImYqF6c-E9uC",
        "outputId": "0fefe6c9-ec0f-4ff2-868b-65a5f6d81fa0"
      },
      "execution_count": 4,
      "outputs": [
        {
          "output_type": "stream",
          "name": "stdout",
          "text": [
            "Top 10 Regular Season Rebounders:\n",
            "                    Player  Rebounds\n",
            "577       Domantas Sabonis      13.7\n",
            "241            Rudy Gobert      12.9\n",
            "155          Anthony Davis      12.6\n",
            "340           Nikola Joki?      12.4\n",
            "181            Jalen Duren      11.6\n",
            "14   Giannis Antetokounmpo      11.5\n",
            "22           Deandre Ayton      11.1\n",
            "492           Jusuf Nurki?      11.0\n",
            "186            Joel Embiid      11.0\n",
            "121           Clint Capela      10.6\n",
            "Top 10 Regular Season Rebounders:\n",
            "                Player  Rebounds\n",
            "37       Anthony Davis      15.6\n",
            "4        Jarrett Allen      13.8\n",
            "97        Nikola Joki?      13.4\n",
            "69           Josh Hart      11.5\n",
            "157       Bobby Portis      11.3\n",
            "193  Jonas Valan?i?nas      11.0\n",
            "46         Joel Embiid      10.8\n",
            "57         Rudy Gobert       9.8\n",
            "183       Jayson Tatum       9.7\n",
            "42         Luka Don?i?       9.5\n"
          ]
        }
      ]
    },
    {
      "cell_type": "markdown",
      "source": [
        "**Exercise 2: Assists Leader by Team**\n",
        "\n",
        "Group the data by team and calculate which player on each team has the most assists for both the regular season and playoffs"
      ],
      "metadata": {
        "id": "U-TYJpSaFLnJ"
      }
    },
    {
      "cell_type": "code",
      "source": [
        "most_assists_regular = regular_season_df.groupby('Team').apply(lambda x: x.nlargest(1, 'Assists'))[['Team', 'Player', 'Assists']]\n",
        "print(\"Assists Regular Season Leader by Team:\")\n",
        "print(most_assists_regular)\n",
        "\n",
        "most_assists_playoffs = playoffs_df.groupby('Team').apply(lambda x: x.nlargest(1, 'Assists'))[['Team', 'Player', 'Assists']]\n",
        "print(\"Assists Playoffs Leader by Team:\")\n",
        "print(most_assists_playoffs)\n"
      ],
      "metadata": {
        "colab": {
          "base_uri": "https://localhost:8080/"
        },
        "id": "MOH2WJTyFtGs",
        "outputId": "ace8398e-09d1-4e43-9ddd-e5dd2e022654"
      },
      "execution_count": 5,
      "outputs": [
        {
          "output_type": "stream",
          "name": "stdout",
          "text": [
            "Assists Regular Season Leader by Team:\n",
            "         Team                   Player  Assists\n",
            "Team                                           \n",
            "ATL  731  ATL               Trae Young     10.8\n",
            "BOS  694  BOS            Derrick White      5.2\n",
            "BRK  168  BRK        Spencer Dinwiddie      6.0\n",
            "CHI  159  CHI            DeMar DeRozan      5.3\n",
            "CHO  30   CHO              LaMelo Ball      8.0\n",
            "CLE  222  CLE           Darius Garland      6.5\n",
            "DAL  171  DAL              Luka Don?i?      9.8\n",
            "DEN  340  DEN             Nikola Joki?      9.0\n",
            "DET  149  DET          Cade Cunningham      7.5\n",
            "GSW  509  GSW               Chris Paul      6.8\n",
            "HOU  662  HOU            Fred VanVleet      8.1\n",
            "IND  265  IND        Tyrese Haliburton     10.9\n",
            "LAC  268  LAC             James Harden      8.5\n",
            "LAL  325  LAL             LeBron James      8.3\n",
            "MEM  462  MEM                Ja Morant      8.1\n",
            "MIA  117  MIA             Jimmy Butler      5.0\n",
            "MIL  378  MIL           Damian Lillard      7.0\n",
            "MIN  139  MIN              Mike Conley      5.9\n",
            "NOP  313  NOP           Brandon Ingram      5.7\n",
            "NYK  109  NYK            Jalen Brunson      6.7\n",
            "OKC  235  OKC  Shai Gilgeous-Alexander      6.2\n",
            "ORL  32   ORL           Paolo Banchero      5.4\n",
            "PHI  415  PHI             Tyrese Maxey      6.2\n",
            "PHO  81   PHO             Devin Booker      6.9\n",
            "POR  94   POR          Malcolm Brogdon      5.5\n",
            "SAC  577  SAC         Domantas Sabonis      8.2\n",
            "SAS  346  SAS                Tre Jones      6.2\n",
            "TOR  547  TOR        Immanuel Quickley      6.8\n",
            "TOT  586  TOT          Dennis Schröder      6.1\n",
            "UTA  133  UTA          Jordan Clarkson      5.0\n",
            "WAS  347  WAS               Tyus Jones      7.3\n",
            "Assists Playoffs Leader by Team:\n",
            "         Team                   Player  Assists\n",
            "Team                                           \n",
            "BOS  183  BOS             Jayson Tatum      6.3\n",
            "CLE  52   CLE           Darius Garland      5.8\n",
            "DAL  42   DAL              Luka Don?i?      8.1\n",
            "DEN  97   DEN             Nikola Joki?      8.7\n",
            "IND  63   IND        Tyrese Haliburton      8.2\n",
            "LAC  65   LAC             James Harden      8.0\n",
            "LAL  92   LAL             LeBron James      8.8\n",
            "MIA  75   MIA              Tyler Herro      5.4\n",
            "MIL  15   MIL         Patrick Beverley      5.5\n",
            "MIN  45   MIN          Anthony Edwards      6.5\n",
            "NOP  121  NOP              CJ McCollum      4.8\n",
            "NYK  27   NYK            Jalen Brunson      7.5\n",
            "OKC  56   OKC  Shai Gilgeous-Alexander      6.4\n",
            "ORL  196  ORL             Franz Wagner      4.4\n",
            "PHI  119  PHI             Tyrese Maxey      6.8\n",
            "PHO  20   PHO             Devin Booker      6.0\n"
          ]
        },
        {
          "output_type": "stream",
          "name": "stderr",
          "text": [
            "<ipython-input-5-b5bea7bc7212>:1: DeprecationWarning: DataFrameGroupBy.apply operated on the grouping columns. This behavior is deprecated, and in a future version of pandas the grouping columns will be excluded from the operation. Either pass `include_groups=False` to exclude the groupings or explicitly select the grouping columns after groupby to silence this warning.\n",
            "  most_assists_regular = regular_season_df.groupby('Team').apply(lambda x: x.nlargest(1, 'Assists'))[['Team', 'Player', 'Assists']]\n",
            "<ipython-input-5-b5bea7bc7212>:5: DeprecationWarning: DataFrameGroupBy.apply operated on the grouping columns. This behavior is deprecated, and in a future version of pandas the grouping columns will be excluded from the operation. Either pass `include_groups=False` to exclude the groupings or explicitly select the grouping columns after groupby to silence this warning.\n",
            "  most_assists_playoffs = playoffs_df.groupby('Team').apply(lambda x: x.nlargest(1, 'Assists'))[['Team', 'Player', 'Assists']]\n"
          ]
        }
      ]
    },
    {
      "cell_type": "markdown",
      "source": [
        "**Exercise 3: Visualize Rebounds per Team (optional)**\n",
        "\n",
        "Create a visualization that compares the average rebounds per team for the regular season and playoffs. Which team saw the biggest increase or decrease?"
      ],
      "metadata": {
        "id": "HYZ_-KxPFPmV"
      }
    },
    {
      "cell_type": "code",
      "source": [
        "import matplotlib.pyplot as plt\n",
        "import seaborn as sns\n",
        "\n",
        "team_rebounds_regular = regular_season_df.groupby('Team')[['Rebounds']].mean().reset_index()\n",
        "team_rebounds_playoffs = playoffs_df.groupby('Team')[['Rebounds']].mean().reset_index()\n",
        "\n",
        "team_rebounds_stats = pd.merge(team_rebounds_regular, team_rebounds_playoffs, on='Team', suffixes=('_Regular', '_Playoffs'))\n",
        "\n",
        "plt.figure(figsize=(12,8))\n",
        "sns.barplot(x='Rebounds_Playoffs', y='Team', data=team_rebounds_stats, color=\"r\", label=\"Playoffs\")\n",
        "sns.barplot(x='Rebounds_Regular', y='Team', data=team_rebounds_stats, color=\"b\", label=\"Regular Season\")\n",
        "plt.title('Average Rebounds per Team: Regular Season vs Playoffs')\n",
        "plt.legend()\n",
        "plt.show()"
      ],
      "metadata": {
        "colab": {
          "base_uri": "https://localhost:8080/",
          "height": 679
        },
        "id": "FLWG-rOzFqHZ",
        "outputId": "005f01c5-540a-48d1-a232-446d37bd215b"
      },
      "execution_count": 9,
      "outputs": [
        {
          "output_type": "display_data",
          "data": {
            "text/plain": [
              "<Figure size 1200x800 with 1 Axes>"
            ],
            "image/png": "[encoded data removed]"
          },
          "metadata": {}
        }
      ]
    },
    {
      "cell_type": "markdown",
      "source": [
        "As seen in the graphs above, most teams had a higher average of rebounds during the playoffs compared to the regular season. The team with the biggest increase was LAL, and the team with the biggest decrease was PHO."
      ],
      "metadata": {
        "id": "KkJBcvc3HPpm"
      }
    }
  ]
}